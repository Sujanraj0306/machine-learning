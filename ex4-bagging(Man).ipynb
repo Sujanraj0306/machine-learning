{
 "cells": [
  {
   "cell_type": "code",
   "execution_count": 1,
   "metadata": {},
   "outputs": [],
   "source": [
    "import random\n",
    "import csv"
   ]
  },
  {
   "cell_type": "code",
   "execution_count": 4,
   "metadata": {},
   "outputs": [],
   "source": [
    "headers = ['f1','f2','f3','f4','f5','f6','f7','f8','f9','f10','target']\n"
   ]
  },
  {
   "cell_type": "code",
   "execution_count": 6,
   "metadata": {},
   "outputs": [],
   "source": [
    "data = []\n",
    "for i in range(0, 1000):\n",
    "    f1=round(random.uniform(1, 300), 2)\n",
    "    f2= random.randint(29, 45)\n",
    "    f3=round(random.uniform(1, 300), 2)\n",
    "    f4= random.randint(29, 45)\n",
    "    f5=round(random.uniform(1, 300), 2)\n",
    "    f6=round(random.uniform(1, 300), 2)\n",
    "    f7= random.randint(29, 45)\n",
    "    f8= random.randint(29, 45)\n",
    "    f9=round(random.uniform(1, 300), 2)\n",
    "    f10= random.randint(29, 45)\n",
    "    target = random.choice([1,0])\n",
    "    data.append({\n",
    "        'f1':f1,\n",
    "        'f2':f2,\n",
    "        'f3':f3,\n",
    "        'f4':f4,\n",
    "        'f5':f5,\n",
    "        'f6':f6,\n",
    "        'f7':f7,\n",
    "        'f8':f8,\n",
    "        'f9':f9,\n",
    "        'f10':f10,\n",
    "        'target':target\n",
    "        \n",
    "    })\n",
    "\n"
   ]
  },
  {
   "cell_type": "code",
   "execution_count": 8,
   "metadata": {},
   "outputs": [
    {
     "name": "stdout",
     "output_type": "stream",
     "text": [
      "created successfully.\n"
     ]
    }
   ],
   "source": [
    "with open('generated_data.csv', 'w', newline='') as csvfile:\n",
    "    writer = csv.DictWriter(csvfile, fieldnames=headers)\n",
    "    writer.writeheader()\n",
    "    for row in data:\n",
    "        writer.writerow(row)\n",
    "print(\"created successfully.\")"
   ]
  },
  {
   "cell_type": "code",
   "execution_count": 9,
   "metadata": {},
   "outputs": [],
   "source": [
    "import pandas as pd\n"
   ]
  },
  {
   "cell_type": "code",
   "execution_count": 11,
   "metadata": {},
   "outputs": [],
   "source": [
    "data = pd.read_csv(\"generated_data.csv\")\n",
    "X = data[['f1','f2','f3','f4','f5','f6','f7','f8','f9','f10']]\n",
    "y = data['target']\n"
   ]
  },
  {
   "cell_type": "code",
   "execution_count": 12,
   "metadata": {},
   "outputs": [
    {
     "name": "stdout",
     "output_type": "stream",
     "text": [
      "         f1  f2      f3  f4      f5      f6  f7  f8      f9  f10\n",
      "0    144.41  35  279.09  41  276.76  176.76  30  37   42.57   29\n",
      "1    116.97  39  170.53  41   59.93  264.20  42  38  169.58   41\n",
      "2     78.42  37   21.40  34   43.38  183.18  41  37  280.86   35\n",
      "3     67.08  31   99.51  42  133.21  112.80  35  33  292.98   44\n",
      "4     67.81  30   21.17  45  116.73   71.82  41  36   34.18   41\n",
      "..      ...  ..     ...  ..     ...     ...  ..  ..     ...  ...\n",
      "995   95.99  33  213.63  31  177.34   56.85  41  30  176.90   34\n",
      "996  166.56  33  197.37  38   57.78  221.40  37  35  245.09   39\n",
      "997  210.62  39  110.32  40  282.70  178.41  32  43  150.06   44\n",
      "998   26.24  29  150.70  33   63.38   24.74  45  34  267.05   31\n",
      "999  137.43  40   37.96  31  191.09   74.36  37  32  268.77   37\n",
      "\n",
      "[1000 rows x 10 columns]\n"
     ]
    }
   ],
   "source": [
    "print (X)"
   ]
  },
  {
   "cell_type": "code",
   "execution_count": 13,
   "metadata": {},
   "outputs": [
    {
     "name": "stdout",
     "output_type": "stream",
     "text": [
      "0      1\n",
      "1      1\n",
      "2      0\n",
      "3      1\n",
      "4      1\n",
      "      ..\n",
      "995    0\n",
      "996    0\n",
      "997    1\n",
      "998    0\n",
      "999    0\n",
      "Name: target, Length: 1000, dtype: int64\n"
     ]
    }
   ],
   "source": [
    "print(y)"
   ]
  },
  {
   "cell_type": "code",
   "execution_count": 14,
   "metadata": {},
   "outputs": [
    {
     "data": {
      "text/html": [
       "<div>\n",
       "<style scoped>\n",
       "    .dataframe tbody tr th:only-of-type {\n",
       "        vertical-align: middle;\n",
       "    }\n",
       "\n",
       "    .dataframe tbody tr th {\n",
       "        vertical-align: top;\n",
       "    }\n",
       "\n",
       "    .dataframe thead th {\n",
       "        text-align: right;\n",
       "    }\n",
       "</style>\n",
       "<table border=\"1\" class=\"dataframe\">\n",
       "  <thead>\n",
       "    <tr style=\"text-align: right;\">\n",
       "      <th></th>\n",
       "      <th>f1</th>\n",
       "      <th>f2</th>\n",
       "      <th>f3</th>\n",
       "      <th>f4</th>\n",
       "      <th>f5</th>\n",
       "      <th>f6</th>\n",
       "      <th>f7</th>\n",
       "      <th>f8</th>\n",
       "      <th>f9</th>\n",
       "      <th>f10</th>\n",
       "      <th>target</th>\n",
       "    </tr>\n",
       "  </thead>\n",
       "  <tbody>\n",
       "    <tr>\n",
       "      <th>0</th>\n",
       "      <td>144.41</td>\n",
       "      <td>35</td>\n",
       "      <td>279.09</td>\n",
       "      <td>41</td>\n",
       "      <td>276.76</td>\n",
       "      <td>176.76</td>\n",
       "      <td>30</td>\n",
       "      <td>37</td>\n",
       "      <td>42.57</td>\n",
       "      <td>29</td>\n",
       "      <td>1</td>\n",
       "    </tr>\n",
       "    <tr>\n",
       "      <th>1</th>\n",
       "      <td>116.97</td>\n",
       "      <td>39</td>\n",
       "      <td>170.53</td>\n",
       "      <td>41</td>\n",
       "      <td>59.93</td>\n",
       "      <td>264.20</td>\n",
       "      <td>42</td>\n",
       "      <td>38</td>\n",
       "      <td>169.58</td>\n",
       "      <td>41</td>\n",
       "      <td>1</td>\n",
       "    </tr>\n",
       "    <tr>\n",
       "      <th>2</th>\n",
       "      <td>78.42</td>\n",
       "      <td>37</td>\n",
       "      <td>21.40</td>\n",
       "      <td>34</td>\n",
       "      <td>43.38</td>\n",
       "      <td>183.18</td>\n",
       "      <td>41</td>\n",
       "      <td>37</td>\n",
       "      <td>280.86</td>\n",
       "      <td>35</td>\n",
       "      <td>0</td>\n",
       "    </tr>\n",
       "    <tr>\n",
       "      <th>3</th>\n",
       "      <td>67.08</td>\n",
       "      <td>31</td>\n",
       "      <td>99.51</td>\n",
       "      <td>42</td>\n",
       "      <td>133.21</td>\n",
       "      <td>112.80</td>\n",
       "      <td>35</td>\n",
       "      <td>33</td>\n",
       "      <td>292.98</td>\n",
       "      <td>44</td>\n",
       "      <td>1</td>\n",
       "    </tr>\n",
       "    <tr>\n",
       "      <th>4</th>\n",
       "      <td>67.81</td>\n",
       "      <td>30</td>\n",
       "      <td>21.17</td>\n",
       "      <td>45</td>\n",
       "      <td>116.73</td>\n",
       "      <td>71.82</td>\n",
       "      <td>41</td>\n",
       "      <td>36</td>\n",
       "      <td>34.18</td>\n",
       "      <td>41</td>\n",
       "      <td>1</td>\n",
       "    </tr>\n",
       "  </tbody>\n",
       "</table>\n",
       "</div>"
      ],
      "text/plain": [
       "       f1  f2      f3  f4      f5      f6  f7  f8      f9  f10  target\n",
       "0  144.41  35  279.09  41  276.76  176.76  30  37   42.57   29       1\n",
       "1  116.97  39  170.53  41   59.93  264.20  42  38  169.58   41       1\n",
       "2   78.42  37   21.40  34   43.38  183.18  41  37  280.86   35       0\n",
       "3   67.08  31   99.51  42  133.21  112.80  35  33  292.98   44       1\n",
       "4   67.81  30   21.17  45  116.73   71.82  41  36   34.18   41       1"
      ]
     },
     "execution_count": 14,
     "metadata": {},
     "output_type": "execute_result"
    }
   ],
   "source": [
    "data.head()"
   ]
  },
  {
   "cell_type": "code",
   "execution_count": 38,
   "metadata": {},
   "outputs": [],
   "source": [
    "\n",
    "\n",
    "import pandas as pd\n",
    "import numpy as np\n",
    "from sklearn.tree import DecisionTreeClassifier\n",
    "from sklearn.metrics import accuracy_score\n",
    "\n",
    "data = pd.read_csv(\"generated_data.csv\")\n",
    "\n",
    "\n",
    "X = data[['f1','f2','f3','f4','f5','f6','f7','f8','f9','f10']]\n",
    "y = data['target']\n",
    "\n",
    "\n",
    "x_np = X.to_numpy()\n",
    "y_np = y.to_numpy()\n",
    "\n",
    "chunk_size = random.randint(50,100)\n",
    "accuracies = []\n",
    "p_value=[]\n",
    "\n",
    "\n"
   ]
  },
  {
   "cell_type": "code",
   "execution_count": 39,
   "metadata": {},
   "outputs": [
    {
     "name": "stdout",
     "output_type": "stream",
     "text": [
      "Part 1: Accuracy = 0.4788\n",
      "Part 1: Predicted value = [1]\n",
      "Part 2: Accuracy = 0.4980\n",
      "Part 2: Predicted value = [0]\n",
      "Part 3: Accuracy = 0.4904\n",
      "Part 3: Predicted value = [1]\n",
      "Part 4: Accuracy = 0.5020\n",
      "Part 4: Predicted value = [1]\n",
      "Part 5: Accuracy = 0.5055\n",
      "Part 5: Predicted value = [1]\n",
      "Part 6: Accuracy = 0.4929\n",
      "Part 6: Predicted value = [0]\n",
      "Part 7: Accuracy = 0.5187\n",
      "Part 7: Predicted value = [1]\n",
      "Part 8: Accuracy = 0.5121\n",
      "Part 8: Predicted value = [1]\n",
      "Part 9: Accuracy = 0.4909\n",
      "Part 9: Predicted value = [1]\n",
      "Part 10: Accuracy = 0.5101\n",
      "Part 10: Predicted value = [1]\n"
     ]
    }
   ],
   "source": [
    "for i in range(10):\n",
    "    start = i * chunk_size\n",
    "    end = start + chunk_size\n",
    "\n",
    "    chunk_X = x_np[start:end]\n",
    "    chunk_y = y_np[start:end]\n",
    "\n",
    "\n",
    "    train_idx = np.random.choice(chunk_size, size=10, replace=True)\n",
    "    X_train = chunk_X[train_idx]\n",
    "    y_train = chunk_y[train_idx]\n",
    "\n",
    "    global_train_idx = start + train_idx\n",
    "    all_indices = np.arange(1000)\n",
    "    test_idx = np.array([idx for idx in all_indices if idx not in global_train_idx])\n",
    "\n",
    "    X_test = x_np[test_idx]\n",
    "    y_test = y_np[test_idx]\n",
    "\n",
    "    model = DecisionTreeClassifier()\n",
    "    model.fit(X_train, y_train)\n",
    "    new_samp=np.array([[17.99,10.38,122.80,1001.0,0.11840,0.27760,0.3001,0.14710,0.2419,0.07871]])\n",
    "    pv=model.predict(new_samp)\n",
    "    p_value.append(pv)\n",
    "   \n",
    "\n",
    "    y_pred = model.predict(X_test)\n",
    "    acc = accuracy_score(y_test, y_pred)\n",
    "    accuracies.append(acc)\n",
    "\n",
    "    print(f\"Part {i+1}: Accuracy = {acc:.4f}\")\n",
    "    print(f\"Part {i+1}: Predicted value = {pv}\")\n",
    "\n"
   ]
  },
  {
   "cell_type": "code",
   "execution_count": 45,
   "metadata": {},
   "outputs": [
    {
     "name": "stdout",
     "output_type": "stream",
     "text": [
      "\n",
      "Average Accuracy over 10 parts: 0.4999\n",
      "final prediction:\n",
      "1\n"
     ]
    }
   ],
   "source": [
    "\n",
    "print(f\"\\nAverage Accuracy over 10 parts: {np.mean(accuracies):.4f}\")\n",
    "print(\"final prediction:\")\n",
    "if (p_value.count(1) <= p_value.count(0)):\n",
    "    print(\"0\")\n",
    "else:\n",
    "    print(\"1\")"
   ]
  },
  {
   "cell_type": "code",
   "execution_count": null,
   "metadata": {},
   "outputs": [],
   "source": []
  }
 ],
 "metadata": {
  "kernelspec": {
   "display_name": "Python 3",
   "language": "python",
   "name": "python3"
  },
  "language_info": {
   "codemirror_mode": {
    "name": "ipython",
    "version": 3
   },
   "file_extension": ".py",
   "mimetype": "text/x-python",
   "name": "python",
   "nbconvert_exporter": "python",
   "pygments_lexer": "ipython3",
   "version": "3.11.0"
  }
 },
 "nbformat": 4,
 "nbformat_minor": 2
}
