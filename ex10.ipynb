{
 "cells": [
  {
   "cell_type": "code",
   "execution_count": 56,
   "id": "c11fd90d",
   "metadata": {},
   "outputs": [],
   "source": [
    "from sklearn.datasets import load_breast_cancer\n",
    "from sklearn.model_selection import train_test_split,GridSearchCV,RandomizedSearchCV\n",
    "from sklearn.preprocessing import StandardScaler\n",
    "from sklearn.ensemble import RandomForestClassifier"
   ]
  },
  {
   "cell_type": "code",
   "execution_count": 57,
   "id": "330f3e48",
   "metadata": {},
   "outputs": [],
   "source": [
    "data= load_breast_cancer()\n",
    "X=data.data \n",
    "y=data.target\n"
   ]
  },
  {
   "cell_type": "code",
   "execution_count": 58,
   "id": "98b1f5c0",
   "metadata": {},
   "outputs": [],
   "source": [
    "x_scaler = StandardScaler()\n",
    "X = x_scaler.fit_transform(X) "
   ]
  },
  {
   "cell_type": "code",
   "execution_count": 59,
   "id": "9f12e51a",
   "metadata": {},
   "outputs": [],
   "source": [
    "x_train, X_test, y_train, y_test = train_test_split(X, y, test_size=0.2, random_state=42)"
   ]
  },
  {
   "cell_type": "code",
   "execution_count": 60,
   "id": "bee82577",
   "metadata": {},
   "outputs": [],
   "source": [
    "model = RandomForestClassifier(random_state=42)\n",
    "param_grid = {    \n",
    "    'n_estimators': [50, 100, 150],\n",
    "    'max_depth': [3, 6, 9],\n",
    "    'min_samples_split': [2, 4],\n",
    "    'criterion': ['gini', 'entropy']\n",
    "}\n",
    "           "
   ]
  },
  {
   "cell_type": "code",
   "execution_count": 61,
   "id": "b242b473",
   "metadata": {},
   "outputs": [],
   "source": [
    "grid_search = GridSearchCV(model, param_grid, cv=5, scoring='accuracy')\n"
   ]
  },
  {
   "cell_type": "code",
   "execution_count": 62,
   "id": "fe237982",
   "metadata": {},
   "outputs": [],
   "source": [
    "import time\n",
    "\n",
    "\n",
    "start_time = time.time()\n",
    "grid_search.fit(x_train, y_train)\n",
    "end_time = time.time()"
   ]
  },
  {
   "cell_type": "code",
   "execution_count": 63,
   "id": "138a72f1",
   "metadata": {},
   "outputs": [
    {
     "name": "stdout",
     "output_type": "stream",
     "text": [
      "GridSearchCV Fit Time: 19.2172 seconds\n",
      "Best Parameters (GridSearchCV): {'criterion': 'entropy', 'max_depth': 6, 'min_samples_split': 2, 'n_estimators': 100}\n",
      "Best CV Score (GridSearchCV): 0.9692307692307691\n"
     ]
    }
   ],
   "source": [
    "\n",
    "print(\"GridSearchCV Fit Time: {:.4f} seconds\".format(end_time - start_time))\n",
    "\n",
    "print(\"Best Parameters (GridSearchCV):\", grid_search.best_params_)\n",
    "\n",
    "print(\"Best CV Score (GridSearchCV):\", grid_search.best_score_)"
   ]
  },
  {
   "cell_type": "code",
   "execution_count": 64,
   "id": "6d2179fc",
   "metadata": {},
   "outputs": [],
   "source": [
    "from sklearn.metrics import accuracy_score, classification_report"
   ]
  },
  {
   "cell_type": "code",
   "execution_count": 65,
   "id": "d80ebee6",
   "metadata": {},
   "outputs": [
    {
     "name": "stdout",
     "output_type": "stream",
     "text": [
      "Test Accuracy (GridSearchCV): 0.9649122807017544\n",
      "Classification Report (GridSearchCV):\n",
      "               precision    recall  f1-score   support\n",
      "\n",
      "           0       0.98      0.93      0.95        43\n",
      "           1       0.96      0.99      0.97        71\n",
      "\n",
      "    accuracy                           0.96       114\n",
      "   macro avg       0.97      0.96      0.96       114\n",
      "weighted avg       0.97      0.96      0.96       114\n",
      "\n"
     ]
    }
   ],
   "source": [
    "y_pred = grid_search.predict(X_test)\n",
    "print(\"Test Accuracy (GridSearchCV):\", accuracy_score(y_test, y_pred))\n",
    "print(\"Classification Report (GridSearchCV):\\n\", classification_report(y_test, y_pred))"
   ]
  },
  {
   "cell_type": "code",
   "execution_count": 66,
   "id": "983de82b",
   "metadata": {},
   "outputs": [],
   "source": [
    "random_search = RandomizedSearchCV(model, param_grid, cv=5, scoring='accuracy', n_iter=10, random_state=42)"
   ]
  },
  {
   "cell_type": "code",
   "execution_count": 67,
   "id": "7f7e4a84",
   "metadata": {},
   "outputs": [],
   "source": [
    "start_time = time.time()\n",
    "random_search.fit(x_train, y_train)\n",
    "end_time = time.time()"
   ]
  },
  {
   "cell_type": "code",
   "execution_count": 68,
   "id": "b02d7407",
   "metadata": {},
   "outputs": [
    {
     "name": "stdout",
     "output_type": "stream",
     "text": [
      "RandomizedSearchCV Fit Time: 5.8780 seconds\n",
      "Best Parameters (RandomizedSearchCV): {'n_estimators': 100, 'min_samples_split': 2, 'max_depth': 9, 'criterion': 'entropy'}\n",
      "Best CV Score (RandomizedSearchCV): 0.9670329670329669\n"
     ]
    }
   ],
   "source": [
    "print(\"RandomizedSearchCV Fit Time: {:.4f} seconds\".format(end_time - start_time))\n",
    "\n",
    "print(\"Best Parameters (RandomizedSearchCV):\", random_search.best_params_)\n",
    "print(\"Best CV Score (RandomizedSearchCV):\", random_search.best_score_)\n",
    "\n"
   ]
  },
  {
   "cell_type": "code",
   "execution_count": 69,
   "id": "7b70a090",
   "metadata": {},
   "outputs": [
    {
     "name": "stdout",
     "output_type": "stream",
     "text": [
      "Test Accuracy (RandomizedSearchCV): 0.9649122807017544\n",
      "Classification Report (RandomizedSearchCV):\n",
      "               precision    recall  f1-score   support\n",
      "\n",
      "           0       0.98      0.93      0.95        43\n",
      "           1       0.96      0.99      0.97        71\n",
      "\n",
      "    accuracy                           0.96       114\n",
      "   macro avg       0.97      0.96      0.96       114\n",
      "weighted avg       0.97      0.96      0.96       114\n",
      "\n"
     ]
    }
   ],
   "source": [
    "y_pred_rand = random_search.predict(X_test)\n",
    "print(\"Test Accuracy (RandomizedSearchCV):\", accuracy_score(y_test, y_pred_rand))\n",
    "print(\"Classification Report (RandomizedSearchCV):\\n\", classification_report(y_test, y_pred_rand))"
   ]
  }
 ],
 "metadata": {
  "kernelspec": {
   "display_name": "Python 3",
   "language": "python",
   "name": "python3"
  },
  "language_info": {
   "codemirror_mode": {
    "name": "ipython",
    "version": 3
   },
   "file_extension": ".py",
   "mimetype": "text/x-python",
   "name": "python",
   "nbconvert_exporter": "python",
   "pygments_lexer": "ipython3",
   "version": "3.10.1"
  }
 },
 "nbformat": 4,
 "nbformat_minor": 5
}
