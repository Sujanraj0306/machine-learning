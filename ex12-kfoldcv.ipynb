{
 "cells": [
  {
   "cell_type": "code",
   "execution_count": null,
   "id": "268e5ade",
   "metadata": {},
   "outputs": [],
   "source": [
    "from sklearn.datasets import load_iris\n",
    "from sklearn.model_selection import KFold, StratifiedKFold, train_test_split, cross_val_score\n",
    "from sklearn.linear_model import LogisticRegression\n",
    "from sklearn.metrics import accuracy_score\n",
    "import numpy as np"
   ]
  },
  {
   "cell_type": "code",
   "execution_count": null,
   "id": "92917ee7",
   "metadata": {},
   "outputs": [],
   "source": [
    "iris = load_iris()\n",
    "X, y = iris.data, iris.target"
   ]
  },
  {
   "cell_type": "code",
   "execution_count": null,
   "id": "422bbb77",
   "metadata": {},
   "outputs": [
    {
     "name": "stdout",
     "output_type": "stream",
     "text": [
      "K-Fold Cross Validation:\n",
      "Fold 1 Accuracy: 0.9667\n",
      "Fold 2 Accuracy: 0.9667\n",
      "Fold 3 Accuracy: 0.9333\n",
      "Fold 4 Accuracy: 0.9333\n",
      "Fold 5 Accuracy: 1.0000\n",
      "Average K-Fold Accuracy: 0.9600\n",
      "\n"
     ]
    }
   ],
   "source": [
    "print(\"K-Fold Cross Validation:\")\n",
    "kf = KFold(n_splits=5, shuffle=True, random_state=1)\n",
    "kf_accuracies = []\n",
    "fold=1\n",
    "for (train_index, test_index) in kf.split(X):\n",
    "    X_train, X_test = X[train_index], X[test_index]\n",
    "    y_train, y_test = y[train_index], y[test_index]\n",
    "\n",
    "    model = LogisticRegression(max_iter=200)\n",
    "    model.fit(X_train, y_train)\n",
    "    y_pred = model.predict(X_test)\n",
    "\n",
    "    acc = accuracy_score(y_test, y_pred)\n",
    "    kf_accuracies.append(acc)\n",
    "    \n",
    "    print(f\"Fold {fold} Accuracy: {acc:.4f}\")\n",
    "    fold+=1\n",
    "print(f\"Average K-Fold Accuracy: {np.mean(kf_accuracies):.4f}\\n\")\n"
   ]
  },
  {
   "cell_type": "code",
   "execution_count": null,
   "id": "70c936cb",
   "metadata": {},
   "outputs": [
    {
     "name": "stdout",
     "output_type": "stream",
     "text": [
      "Stratified K-Fold Cross Validation:\n",
      "Fold 1 Accuracy: 0.9667\n",
      "Fold 2 Accuracy: 1.0000\n",
      "Fold 3 Accuracy: 0.9333\n",
      "Fold 4 Accuracy: 1.0000\n",
      "Fold 5 Accuracy: 0.9000\n",
      "Average Stratified K-Fold Accuracy: 0.9600\n",
      "\n"
     ]
    }
   ],
   "source": [
    "print(\"Stratified K-Fold Cross Validation:\")\n",
    "skf = StratifiedKFold(n_splits=5, shuffle=True, random_state=1)\n",
    "skf_accuracies = []\n",
    "for fold, (train_index, test_index) in enumerate(skf.split(X, y)):\n",
    "    X_train, X_test = X[train_index], X[test_index]\n",
    "    y_train, y_test = y[train_index], y[test_index]\n",
    "\n",
    "    model = LogisticRegression(max_iter=200)\n",
    "    model.fit(X_train, y_train)\n",
    "    y_pred = model.predict(X_test)\n",
    "\n",
    "    acc = accuracy_score(y_test, y_pred)\n",
    "    skf_accuracies.append(acc)\n",
    "    print(f\"Fold {fold+1} Accuracy: {acc:.4f}\")\n",
    "\n",
    "print(f\"Average Stratified K-Fold Accuracy: {np.mean(skf_accuracies):.4f}\\n\")"
   ]
  },
  {
   "cell_type": "code",
   "execution_count": null,
   "id": "63040e69",
   "metadata": {},
   "outputs": [
    {
     "name": "stdout",
     "output_type": "stream",
     "text": [
      "Train-Test Split (80-20):\n",
      "Accuracy on 80-20 split: 0.9667\n"
     ]
    }
   ],
   "source": [
    "print(\"Train-Test Split (80-20):\")\n",
    "X_train, X_test, y_train, y_test = train_test_split(X, y, test_size=0.2, random_state=1)\n",
    "\n",
    "model = LogisticRegression(max_iter=200)\n",
    "model.fit(X_train, y_train)\n",
    "y_pred = model.predict(X_test)\n",
    "\n",
    "acc = accuracy_score(y_test, y_pred)\n",
    "print(f\"Accuracy on 80-20 split: {acc:.4f}\")"
   ]
  }
 ],
 "metadata": {
  "kernelspec": {
   "display_name": "Python 3",
   "language": "python",
   "name": "python3"
  },
  "language_info": {
   "codemirror_mode": {
    "name": "ipython",
    "version": 3
   },
   "file_extension": ".py",
   "mimetype": "text/x-python",
   "name": "python",
   "nbconvert_exporter": "python",
   "pygments_lexer": "ipython3",
   "version": "3.10.1"
  }
 },
 "nbformat": 4,
 "nbformat_minor": 5
}
